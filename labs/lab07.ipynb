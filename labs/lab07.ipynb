{
 "cells": [
  {
   "cell_type": "code",
   "execution_count": 1,
   "id": "d1fc9c45",
   "metadata": {
    "deletable": false,
    "editable": false
   },
   "outputs": [],
   "source": [
    "# Initialize Otter\n",
    "import otter\n",
    "grader = otter.Notebook(\"lab07.ipynb\")"
   ]
  },
  {
   "cell_type": "markdown",
   "id": "303545eb",
   "metadata": {},
   "source": [
    "# Lab 7: Great British Bake Off (A/B Test)\n",
    "\n",
    "Welcome to Data 8 Lab 7! This week's lab will focus on A/B Testing using data from the ever-popular British television show, [*The Great British Bakeoff*](https://en.wikipedia.org/wiki/The_Great_British_Bake_Off).\n",
    "\n",
    "**Lab Queue**: You can find the Lab Queue at [lab.data8.org](https://lab.data8.org/). Whenever you feel stuck or need some further clarification, add yourself to the queue to get help from a GSI or academic intern! Please list your name, location, and purpose on your ticket!\n",
    "\n",
    "**Deadline**: If you are not attending lab, you have to complete this lab and submit by Wednesday, 10/20 before 8:59 A.M. PT in order to receive lab credit. Otherwise, please attend the lab you are enrolled in, get checked off with your GSI or academic intern **AND** submit this assignment by the end of the lab section (with whatever progress you've made) to receive lab credit.\n",
    "\n",
    "**Submission**: Once you're finished, scroll up to the top of the page, and run every cell in the notebook.  Select \"Save and Checkpoint\" in the File menu (please don’t hit Save As), then rerun the last cell of the notebook.  The result will contain a zip file that you can submit to Gradescope. If you are in lab, you can submit a ticket on lab.data8.org to ask a staff member to check you off. \n",
    "\n",
    "First, set up the notebook by running the cell below."
   ]
  },
  {
   "cell_type": "code",
   "execution_count": 2,
   "id": "075d0521",
   "metadata": {
    "execution": {
     "iopub.execute_input": "2021-10-19T03:47:04.842874Z",
     "iopub.status.busy": "2021-10-19T03:47:04.837681Z",
     "iopub.status.idle": "2021-10-19T03:47:06.810421Z",
     "shell.execute_reply": "2021-10-19T03:47:06.809219Z"
    }
   },
   "outputs": [],
   "source": [
    "# Run this cell to set up the notebook, but please don't change it.\n",
    "\n",
    "# These lines import the Numpy and Datascience modules.\n",
    "import numpy as np\n",
    "from datascience import *\n",
    "\n",
    "# These lines do some fancy plotting magic.\n",
    "import matplotlib\n",
    "%matplotlib inline\n",
    "import matplotlib.pyplot as plots\n",
    "plots.style.use('fivethirtyeight')\n",
    "import warnings\n",
    "warnings.simplefilter('ignore', (FutureWarning, np.VisibleDeprecationWarning))\n",
    "\n",
    "import d8error"
   ]
  },
  {
   "cell_type": "markdown",
   "id": "6eefc3f2",
   "metadata": {},
   "source": [
    "## 1. A/B Testing\n",
    "\n",
    "A/B testing is a form of hypothesis testing that allows you to make comparisons between two distributions. We may also refer to an A/B test as a permutation test.\n",
    "\n",
    "You'll almost never be explicitly asked to perform an A/B test. Make sure you can identify situations where the test is appropriate and know how to correctly implement each step. Oftentimes, we use an A/B test to determine whether or not two samples came from the same underlying distribution."
   ]
  },
  {
   "cell_type": "markdown",
   "id": "ff7d902e",
   "metadata": {
    "deletable": false,
    "editable": false
   },
   "source": [
    "**Question 1.1.** The following statements are the steps of an A/B hypothesis test presented in a *random order*:\n",
    "\n",
    "1. Choose a test statistic (typically the difference in means between two categories)\n",
    "\n",
    "2. Shuffle the labels of the original sample, find your simulated test statistic, and repeat many times\n",
    "\n",
    "3. Find the value of the observed test statistic\n",
    "\n",
    "4. Calculate the p-value based off your observed and simulated test statistics\n",
    "\n",
    "5. Define a null and alternate model\n",
    "\n",
    "6. Use the p-value and p-value cutoff to draw a conclusion about the null hypothesis\n",
    "\n",
    "Assign `ab_test_order` to an array of integers that contains the correct order of an A/B test, where the first item of the array is the first step of an A/B test and the last item of the array is the last step of an A/B test.\n",
    "\n",
    "<!--\n",
    "BEGIN QUESTION\n",
    "name: q1_1\n",
    "-->"
   ]
  },
  {
   "cell_type": "code",
   "execution_count": 5,
   "id": "b28cc0ff",
   "metadata": {
    "execution": {
     "iopub.execute_input": "2021-10-19T03:47:06.819882Z",
     "iopub.status.busy": "2021-10-19T03:47:06.819013Z",
     "iopub.status.idle": "2021-10-19T03:47:06.822499Z",
     "shell.execute_reply": "2021-10-19T03:47:06.821888Z"
    }
   },
   "outputs": [],
   "source": [
    "ab_test_order = make_array(5, 1, 3, 2, 4, 6)"
   ]
  },
  {
   "cell_type": "code",
   "execution_count": 6,
   "id": "d1912a94",
   "metadata": {
    "deletable": false,
    "editable": false
   },
   "outputs": [
    {
     "data": {
      "text/html": [
       "<p><strong><pre style='display: inline;'>q1_1</pre></strong> passed!</p>"
      ],
      "text/plain": [
       "q1_1 results: All test cases passed!"
      ]
     },
     "execution_count": 6,
     "metadata": {},
     "output_type": "execute_result"
    }
   ],
   "source": [
    "grader.check(\"q1_1\")"
   ]
  },
  {
   "cell_type": "markdown",
   "id": "ba0e6941",
   "metadata": {
    "deletable": false,
    "editable": false
   },
   "source": [
    "**Question 1.2.** If the null hypothesis of an A/B test is correct, should the order of labels affect the differences in means between each group? Why do we shuffle labels in an A/B test? \n",
    "\n",
    "<!--\n",
    "BEGIN QUESTION\n",
    "name: q1_2\n",
    "-->"
   ]
  },
  {
   "cell_type": "markdown",
   "id": "a7262743",
   "metadata": {},
   "source": [
    "_Type your answer here, replacing this text._"
   ]
  },
  {
   "cell_type": "markdown",
   "id": "5013a672",
   "metadata": {},
   "source": [
    "## 2. The Great British Bake Off\n",
    "\n",
    ">\"The Great British Bake Off (often abbreviated to Bake Off or GBBO) is a British television baking competition, produced by Love Productions, in which a group of amateur bakers compete against each other in a series of rounds, attempting to impress a group of judges with their baking skills\" [Wikipedia](https://en.wikipedia.org/wiki/The_Great_British_Bake_Off)\n",
    "\n",
    "For every week of the competition, the judges assign one contestant the title \"Star Baker\". Ultimately, one winner is crowned every season. Using this information, we would like to investigate how winning Star Baker awards affects the odds of winning a season of the show."
   ]
  },
  {
   "cell_type": "markdown",
   "id": "95b85e43",
   "metadata": {
    "deletable": false,
    "editable": false
   },
   "source": [
    "**Question 2.1.** We want to know whether winning more Star Baker awards *causes* a change in likelihood of winning the season.  Why is it not sufficient to compare star baker rates for winners and losers?\n",
    "\n",
    "<!--\n",
    "BEGIN QUESTION\n",
    "name: q2_1\n",
    "-->"
   ]
  },
  {
   "cell_type": "markdown",
   "id": "afa62edd",
   "metadata": {},
   "source": [
    "_Type your answer here, replacing this text._"
   ]
  },
  {
   "cell_type": "markdown",
   "id": "be6cc68b",
   "metadata": {},
   "source": [
    "### Running an Experiment\n",
    "\n",
    "We are going to run the following hypothesis test to determine the association between winning and number of Star Baker awards. The population we are examining is every contestant from seasons 2 through 11 of GBBO. We are going to use the following null and alternative hypotheses:\n",
    "\n",
    "**Null hypothesis:** The distribution of Star Baker awards between contestants who won their season and contestants who did not win their season is the same.\n",
    "\n",
    "**Alternative hypothesis:** Contestants who win their season of the show will win more Star Baker awards on average.\n",
    "\n",
    "Our alternative hypothesis is related to our suspicion that contestants who win more Star Baker awards are more skilled, so they are more likely to win the season."
   ]
  },
  {
   "cell_type": "markdown",
   "id": "b5f64e2a",
   "metadata": {
    "deletable": false,
    "editable": false
   },
   "source": [
    "**Question 2.2.** Should we use an A/B test to test these hypotheses? If yes, what is our \"A\" group and what is our \"B\" group?\n",
    "\n",
    "<!--\n",
    "BEGIN QUESTION\n",
    "name: q2_2\n",
    "-->"
   ]
  },
  {
   "cell_type": "markdown",
   "id": "5140badc",
   "metadata": {},
   "source": [
    "_Type your answer here, replacing this text._"
   ]
  },
  {
   "cell_type": "markdown",
   "id": "ab3084d0",
   "metadata": {},
   "source": [
    "Check your answers with your neighbors or a staff member before you move on to the next section."
   ]
  },
  {
   "cell_type": "markdown",
   "id": "03f5d867",
   "metadata": {},
   "source": [
    "The `bakers` table below describes the number of star baker awards each contest won and whether or not they won their season (`1` if they won, `0` if they did not win). The data was manually aggregated from Wikipedia for seasons 2-11 of the show. We randomized the order of rows as to not spoil the outcome of the show."
   ]
  },
  {
   "cell_type": "code",
   "execution_count": 7,
   "id": "09f00242",
   "metadata": {
    "execution": {
     "iopub.execute_input": "2021-10-19T03:47:06.892638Z",
     "iopub.status.busy": "2021-10-19T03:47:06.891675Z",
     "iopub.status.idle": "2021-10-19T03:47:06.905203Z",
     "shell.execute_reply": "2021-10-19T03:47:06.904581Z"
    }
   },
   "outputs": [
    {
     "data": {
      "text/html": [
       "<table border=\"1\" class=\"dataframe\">\n",
       "    <thead>\n",
       "        <tr>\n",
       "            <th>star baker awards</th> <th>won</th>\n",
       "        </tr>\n",
       "    </thead>\n",
       "    <tbody>\n",
       "        <tr>\n",
       "            <td>3                </td> <td>1   </td>\n",
       "        </tr>\n",
       "        <tr>\n",
       "            <td>0                </td> <td>0   </td>\n",
       "        </tr>\n",
       "        <tr>\n",
       "            <td>1                </td> <td>0   </td>\n",
       "        </tr>\n",
       "    </tbody>\n",
       "</table>\n",
       "<p>... (119 rows omitted)</p>"
      ],
      "text/plain": [
       "<IPython.core.display.HTML object>"
      ]
     },
     "metadata": {},
     "output_type": "display_data"
    }
   ],
   "source": [
    "bakers = Table.read_table(\"star_bakers.csv\")\n",
    "bakers.show(3)"
   ]
  },
  {
   "cell_type": "markdown",
   "id": "3c32719c",
   "metadata": {
    "deletable": false,
    "editable": false
   },
   "source": [
    "**Question 2.3.** Create a new table called `means` that contains the mean number of star baker awards for bakers who did not win (`won==0`) and bakers that did win (`won==1`). The table should have the column names `won` and `star baker awards mean`.\n",
    "<!--\n",
    "BEGIN QUESTION\n",
    "name: q2_3\n",
    "-->"
   ]
  },
  {
   "cell_type": "code",
   "execution_count": 10,
   "id": "2a9de40f",
   "metadata": {
    "execution": {
     "iopub.execute_input": "2021-10-19T03:47:06.923341Z",
     "iopub.status.busy": "2021-10-19T03:47:06.922641Z",
     "iopub.status.idle": "2021-10-19T03:47:06.929085Z",
     "shell.execute_reply": "2021-10-19T03:47:06.927889Z"
    }
   },
   "outputs": [
    {
     "data": {
      "text/html": [
       "<table border=\"1\" class=\"dataframe\">\n",
       "    <thead>\n",
       "        <tr>\n",
       "            <th>won</th> <th>star baker awards mean</th>\n",
       "        </tr>\n",
       "    </thead>\n",
       "    <tbody>\n",
       "        <tr>\n",
       "            <td>0   </td> <td>0.651786              </td>\n",
       "        </tr>\n",
       "        <tr>\n",
       "            <td>1   </td> <td>1.5                   </td>\n",
       "        </tr>\n",
       "    </tbody>\n",
       "</table>"
      ],
      "text/plain": [
       "won  | star baker awards mean\n",
       "0    | 0.651786\n",
       "1    | 1.5"
      ]
     },
     "execution_count": 10,
     "metadata": {},
     "output_type": "execute_result"
    }
   ],
   "source": [
    "means = bakers.group('won', np.average).relabeled(1, 'star baker awards mean')\n",
    "means"
   ]
  },
  {
   "cell_type": "code",
   "execution_count": 11,
   "id": "e485851a",
   "metadata": {
    "deletable": false,
    "editable": false
   },
   "outputs": [
    {
     "data": {
      "text/html": [
       "<p><strong><pre style='display: inline;'>q2_3</pre></strong> passed!</p>"
      ],
      "text/plain": [
       "q2_3 results: All test cases passed!"
      ]
     },
     "execution_count": 11,
     "metadata": {},
     "output_type": "execute_result"
    }
   ],
   "source": [
    "grader.check(\"q2_3\")"
   ]
  },
  {
   "cell_type": "markdown",
   "id": "7581109f",
   "metadata": {
    "deletable": false,
    "editable": false
   },
   "source": [
    "**Question 2.4.** Visualize the distribution of Star Baker awards for winners and non-winners. You should use the bins we provided.\n",
    "\n",
    "Hint: You will want to use the group argument of `tbl.hist`. In order to produce several overlayed histograms based on unique values in a given column, we can do something like `tbl.hist(..., group=<col_name>, bins=...)`!\n",
    "\n",
    "<!--\n",
    "BEGIN QUESTION\n",
    "name: q2_4\n",
    "-->"
   ]
  },
  {
   "cell_type": "code",
   "execution_count": 15,
   "id": "1a97dc0d",
   "metadata": {
    "execution": {
     "iopub.execute_input": "2021-10-19T03:47:06.975843Z",
     "iopub.status.busy": "2021-10-19T03:47:06.974905Z",
     "iopub.status.idle": "2021-10-19T03:47:07.264756Z",
     "shell.execute_reply": "2021-10-19T03:47:07.263963Z"
    }
   },
   "outputs": [
    {
     "data": {
      "image/png": "[encoded data removed]",
      "text/plain": [
       "<Figure size 432x288 with 1 Axes>"
      ]
     },
     "metadata": {},
     "output_type": "display_data"
    }
   ],
   "source": [
    "useful_bins = np.arange(0, 7)\n",
    "bakers.hist(0, group = 'won', bins = useful_bins)"
   ]
  },
  {
   "cell_type": "markdown",
   "id": "3a628817",
   "metadata": {
    "deletable": false,
    "editable": false
   },
   "source": [
    "**Question 2.5.** We want to figure out if there is a difference between the distribution of Star Baker awards between winners and non winners. \n",
    "\n",
    "What should the test statistic be? Which values of this test statistic support the null, and which values support the alternative?\n",
    "\n",
    "If you are in lab, confirm your answer with a neighbor or staff member before moving on.\n",
    "\n",
    "<!--\n",
    "BEGIN QUESTION\n",
    "name: q2_5\n",
    "-->"
   ]
  },
  {
   "cell_type": "markdown",
   "id": "77768316",
   "metadata": {},
   "source": [
    "_Type your answer here, replacing this text._"
   ]
  },
  {
   "cell_type": "markdown",
   "id": "696eaa5b",
   "metadata": {
    "deletable": false,
    "editable": false
   },
   "source": [
    "**Question 2.6.** Set `observed_difference` to the observed test statistic using the `means` table. \n",
    "\n",
    "<!--\n",
    "BEGIN QUESTION\n",
    "name: q2_6\n",
    "-->"
   ]
  },
  {
   "cell_type": "code",
   "execution_count": 18,
   "id": "ff71d963",
   "metadata": {
    "execution": {
     "iopub.execute_input": "2021-10-19T03:47:07.275021Z",
     "iopub.status.busy": "2021-10-19T03:47:07.274159Z",
     "iopub.status.idle": "2021-10-19T03:47:07.278332Z",
     "shell.execute_reply": "2021-10-19T03:47:07.277764Z"
    }
   },
   "outputs": [
    {
     "data": {
      "text/plain": [
       "0.8482142857142857"
      ]
     },
     "execution_count": 18,
     "metadata": {},
     "output_type": "execute_result"
    }
   ],
   "source": [
    "observed_difference = means.column(1).item(1) - means.column(1).item(0)\n",
    "observed_difference"
   ]
  },
  {
   "cell_type": "code",
   "execution_count": 19,
   "id": "0781ff14",
   "metadata": {
    "deletable": false,
    "editable": false
   },
   "outputs": [
    {
     "data": {
      "text/html": [
       "<p><strong><pre style='display: inline;'>q2_6</pre></strong> passed!</p>"
      ],
      "text/plain": [
       "q2_6 results: All test cases passed!"
      ]
     },
     "execution_count": 19,
     "metadata": {},
     "output_type": "execute_result"
    }
   ],
   "source": [
    "grader.check(\"q2_6\")"
   ]
  },
  {
   "cell_type": "markdown",
   "id": "f4d73498",
   "metadata": {
    "deletable": false,
    "editable": false
   },
   "source": [
    "**Question 2.7.** Given a table like `bakers`, a value column `label_col`, and a group column `group_col`, write a function that calculates the appropriate test statistic.\n",
    "\n",
    "*Hint:* Make sure that you are taking the directionality of our alternative hypothesis into account.\n",
    "\n",
    "<!--\n",
    "BEGIN QUESTION\n",
    "name: q2_7\n",
    "-->"
   ]
  },
  {
   "cell_type": "code",
   "execution_count": 51,
   "id": "3d476e42",
   "metadata": {
    "execution": {
     "iopub.execute_input": "2021-10-19T03:47:07.329383Z",
     "iopub.status.busy": "2021-10-19T03:47:07.320374Z",
     "iopub.status.idle": "2021-10-19T03:47:07.336559Z",
     "shell.execute_reply": "2021-10-19T03:47:07.335611Z"
    },
    "scrolled": true
   },
   "outputs": [
    {
     "data": {
      "text/plain": [
       "0.8482142857142857"
      ]
     },
     "execution_count": 51,
     "metadata": {},
     "output_type": "execute_result"
    }
   ],
   "source": [
    "def find_test_stat(tbl, label_col, group_col):\n",
    "    grouped_tbl = tbl.group(label_col, np.average)\n",
    "    return grouped_tbl.column(1).item(1) - grouped_tbl.column(1).item(0)\n",
    "find_test_stat(bakers, \"won\", \"star baker awards\")"
   ]
  },
  {
   "cell_type": "code",
   "execution_count": 52,
   "id": "9e988dc6",
   "metadata": {
    "deletable": false,
    "editable": false
   },
   "outputs": [
    {
     "data": {
      "text/html": [
       "<p><strong><pre style='display: inline;'>q2_7</pre></strong> passed!</p>"
      ],
      "text/plain": [
       "q2_7 results: All test cases passed!"
      ]
     },
     "execution_count": 52,
     "metadata": {},
     "output_type": "execute_result"
    }
   ],
   "source": [
    "grader.check(\"q2_7\")"
   ]
  },
  {
   "cell_type": "markdown",
   "id": "78d3d8cd",
   "metadata": {},
   "source": [
    "When we run a simulation for A/B testing, we resample by **shuffling the labels** of the original sample. If the null hypothesis is true and the star baker award distributions are the same, we expect that the difference in mean star baker awards will be not change when `\"won\"` labels are changed."
   ]
  },
  {
   "cell_type": "markdown",
   "id": "9fa89161",
   "metadata": {
    "deletable": false,
    "editable": false
   },
   "source": [
    "**Question 2.8.** Write a function `simulate_and_test_statistic` to compute one trial of our A/B test. Your function should run a simulation and return a test statistic.\n",
    "\n",
    "<!--\n",
    "BEGIN QUESTION\n",
    "name: q2_8\n",
    "-->"
   ]
  },
  {
   "cell_type": "code",
   "execution_count": 48,
   "id": "194f0dd0",
   "metadata": {},
   "outputs": [
    {
     "data": {
      "text/html": [
       "<table border=\"1\" class=\"dataframe\">\n",
       "    <thead>\n",
       "        <tr>\n",
       "            <th>star baker awards</th> <th>won</th>\n",
       "        </tr>\n",
       "    </thead>\n",
       "    <tbody>\n",
       "        <tr>\n",
       "            <td>3                </td> <td>0   </td>\n",
       "        </tr>\n",
       "        <tr>\n",
       "            <td>0                </td> <td>1   </td>\n",
       "        </tr>\n",
       "        <tr>\n",
       "            <td>1                </td> <td>0   </td>\n",
       "        </tr>\n",
       "        <tr>\n",
       "            <td>0                </td> <td>1   </td>\n",
       "        </tr>\n",
       "        <tr>\n",
       "            <td>0                </td> <td>0   </td>\n",
       "        </tr>\n",
       "        <tr>\n",
       "            <td>1                </td> <td>0   </td>\n",
       "        </tr>\n",
       "        <tr>\n",
       "            <td>1                </td> <td>0   </td>\n",
       "        </tr>\n",
       "        <tr>\n",
       "            <td>0                </td> <td>0   </td>\n",
       "        </tr>\n",
       "        <tr>\n",
       "            <td>0                </td> <td>0   </td>\n",
       "        </tr>\n",
       "        <tr>\n",
       "            <td>0                </td> <td>0   </td>\n",
       "        </tr>\n",
       "    </tbody>\n",
       "</table>\n",
       "<p>... (112 rows omitted)</p>"
      ],
      "text/plain": [
       "<IPython.core.display.HTML object>"
      ]
     },
     "metadata": {},
     "output_type": "display_data"
    },
    {
     "data": {
      "text/plain": [
       "array([0, 1, 0, 1, 0, 0, 0, 0, 0, 0, 0, 0, 0, 0, 0, 1, 0, 0, 0, 0, 0, 0,\n",
       "       1, 0, 0, 0, 0, 0, 0, 0, 0, 0, 0, 0, 0, 0, 0, 0, 0, 0, 0, 0, 0, 0,\n",
       "       0, 0, 0, 0, 0, 0, 0, 0, 0, 0, 0, 0, 0, 0, 0, 1, 0, 0, 0, 0, 0, 1,\n",
       "       1, 1, 0, 0, 0, 0, 0, 0, 0, 0, 0, 0, 0, 0, 0, 0, 0, 0, 0, 0, 0, 0,\n",
       "       0, 0, 0, 0, 0, 0, 0, 0, 0, 0, 0, 0, 1, 0, 0, 0, 0, 0, 0, 0, 0, 0,\n",
       "       0, 0, 0, 0, 0, 0, 1, 0, 0, 0, 0, 0])"
      ]
     },
     "execution_count": 48,
     "metadata": {},
     "output_type": "execute_result"
    }
   ],
   "source": [
    "shuffled_labels = bakers.sample().column('won')\n",
    "shuffled_tbl = bakers.select('star baker awards').with_columns('won', shuffled_labels)\n",
    "shuffled_tbl.show(10)\n",
    "shuffled_labels"
   ]
  },
  {
   "cell_type": "code",
   "execution_count": 49,
   "id": "34741743",
   "metadata": {
    "execution": {
     "iopub.execute_input": "2021-10-19T03:47:07.546059Z",
     "iopub.status.busy": "2021-10-19T03:47:07.369711Z",
     "iopub.status.idle": "2021-10-19T03:47:07.557822Z",
     "shell.execute_reply": "2021-10-19T03:47:07.556369Z"
    }
   },
   "outputs": [
    {
     "data": {
      "text/plain": [
       "-0.15303030303030296"
      ]
     },
     "execution_count": 49,
     "metadata": {},
     "output_type": "execute_result"
    }
   ],
   "source": [
    "def simulate_and_test_statistic(tbl, labels_col, values_col):\n",
    "    shuffled_labels = tbl.sample().column(1)\n",
    "    shuffled_tbl = tbl.select('star baker awards').with_columns('won', shuffled_labels)\n",
    "    return find_test_stat(shuffled_tbl, labels_col, values_col)\n",
    "\n",
    "simulate_and_test_statistic(bakers, \"won\", \"star baker awards\")"
   ]
  },
  {
   "cell_type": "code",
   "execution_count": 50,
   "id": "676863e0",
   "metadata": {
    "deletable": false,
    "editable": false
   },
   "outputs": [
    {
     "data": {
      "text/html": [
       "<p><strong style='color: red;'><pre style='display: inline;'>q2_8</pre> results:</strong></p><p><strong><pre style='display: inline;'>q2_8 - 1</pre> result:</strong></p><pre>    Test case passed!</pre><p><strong><pre style='display: inline;'>q2_8 - 2</pre> result:</strong></p><pre>    Trying:\n",
       "        np.random.seed(1)\n",
       "    Expecting nothing\n",
       "    ok\n",
       "    Trying:\n",
       "        test_stat2 = simulate_and_test_statistic(bakers, \"won\", \"star baker awards\")\n",
       "    Expecting nothing\n",
       "    ok\n",
       "    Trying:\n",
       "        np.round(test_stat2, 3) == -0.023 or np.round(test_stat2, 3) == -0.132\n",
       "    Expecting:\n",
       "        True\n",
       "    **********************************************************************\n",
       "    Line 3, in q2_8 1\n",
       "    Failed example:\n",
       "        np.round(test_stat2, 3) == -0.023 or np.round(test_stat2, 3) == -0.132\n",
       "    Expected:\n",
       "        True\n",
       "    Got:\n",
       "        False\n",
       "</pre>"
      ],
      "text/plain": [
       "q2_8 results:\n",
       "    q2_8 - 1 result:\n",
       "        Test case passed!\n",
       "\n",
       "    q2_8 - 2 result:\n",
       "        Trying:\n",
       "            np.random.seed(1)\n",
       "        Expecting nothing\n",
       "        ok\n",
       "        Trying:\n",
       "            test_stat2 = simulate_and_test_statistic(bakers, \"won\", \"star baker awards\")\n",
       "        Expecting nothing\n",
       "        ok\n",
       "        Trying:\n",
       "            np.round(test_stat2, 3) == -0.023 or np.round(test_stat2, 3) == -0.132\n",
       "        Expecting:\n",
       "            True\n",
       "        **********************************************************************\n",
       "        Line 3, in q2_8 1\n",
       "        Failed example:\n",
       "            np.round(test_stat2, 3) == -0.023 or np.round(test_stat2, 3) == -0.132\n",
       "        Expected:\n",
       "            True\n",
       "        Got:\n",
       "            False"
      ]
     },
     "execution_count": 50,
     "metadata": {},
     "output_type": "execute_result"
    }
   ],
   "source": [
    "grader.check(\"q2_8\")"
   ]
  },
  {
   "cell_type": "markdown",
   "id": "dbec8828",
   "metadata": {
    "deletable": false,
    "editable": false
   },
   "source": [
    "**Question 2.9.** Simulate 5000 trials of our A/B test and store the test statistics in an array called `differences`.\n",
    "\n",
    "<!--\n",
    "BEGIN QUESTION\n",
    "name: q2_9\n",
    "-->"
   ]
  },
  {
   "cell_type": "code",
   "execution_count": 53,
   "id": "3fdebbc3",
   "metadata": {
    "execution": {
     "iopub.execute_input": "2021-10-19T03:47:07.655746Z",
     "iopub.status.busy": "2021-10-19T03:47:07.624775Z",
     "iopub.status.idle": "2021-10-19T03:47:28.567891Z",
     "shell.execute_reply": "2021-10-19T03:47:28.567217Z"
    }
   },
   "outputs": [
    {
     "data": {
      "text/plain": [
       "array([-0.17895772,  0.29824561,  0.12424242, ...,  0.18092429,\n",
       "        0.13141026, -0.20465773])"
      ]
     },
     "execution_count": 53,
     "metadata": {},
     "output_type": "execute_result"
    }
   ],
   "source": [
    "# This cell might take a couple seconds to run\n",
    "differences = make_array()\n",
    "repetitions = 5000\n",
    "for i in np.arange(repetitions):\n",
    "    one_simulation = simulate_and_test_statistic(bakers, 'won', 'star baker awards')\n",
    "    differences = np.append(differences, one_simulation)                                       \n",
    "differences"
   ]
  },
  {
   "cell_type": "code",
   "execution_count": 54,
   "id": "4a3999ff",
   "metadata": {
    "deletable": false,
    "editable": false
   },
   "outputs": [
    {
     "data": {
      "text/html": [
       "<p><strong><pre style='display: inline;'>q2_9</pre></strong> passed!</p>"
      ],
      "text/plain": [
       "q2_9 results: All test cases passed!"
      ]
     },
     "execution_count": 54,
     "metadata": {},
     "output_type": "execute_result"
    }
   ],
   "source": [
    "grader.check(\"q2_9\")"
   ]
  },
  {
   "cell_type": "markdown",
   "id": "0f33a224",
   "metadata": {},
   "source": [
    "Run the cell below to view a histogram of your simulated test statistics plotted with your observed test statistic."
   ]
  },
  {
   "cell_type": "code",
   "execution_count": 55,
   "id": "725521ea",
   "metadata": {
    "execution": {
     "iopub.execute_input": "2021-10-19T03:47:28.637593Z",
     "iopub.status.busy": "2021-10-19T03:47:28.608103Z",
     "iopub.status.idle": "2021-10-19T03:47:28.954466Z",
     "shell.execute_reply": "2021-10-19T03:47:28.954938Z"
    }
   },
   "outputs": [
    {
     "data": {
      "image/png": "[encoded data removed]",
      "text/plain": [
       "<Figure size 432x288 with 1 Axes>"
      ]
     },
     "metadata": {},
     "output_type": "display_data"
    }
   ],
   "source": [
    "Table().with_column('Difference Between Group Means', differences).hist(bins=20)\n",
    "plots.scatter(observed_difference, 0, color='red', s=30, zorder=2)\n",
    "plots.ylim(-0.1, 1.35);"
   ]
  },
  {
   "cell_type": "markdown",
   "id": "c6ec927d",
   "metadata": {
    "deletable": false,
    "editable": false
   },
   "source": [
    "**Question 2.10.** Find the p-value for your test and assign it to `empirical_p`.\n",
    "\n",
    "<!--\n",
    "BEGIN QUESTION\n",
    "name: q2_10\n",
    "-->"
   ]
  },
  {
   "cell_type": "code",
   "execution_count": 26,
   "id": "b35ced89",
   "metadata": {
    "execution": {
     "iopub.execute_input": "2021-10-19T03:47:28.964964Z",
     "iopub.status.busy": "2021-10-19T03:47:28.963811Z",
     "iopub.status.idle": "2021-10-19T03:47:28.968017Z",
     "shell.execute_reply": "2021-10-19T03:47:28.968520Z"
    }
   },
   "outputs": [],
   "source": [
    "empirical_p = ...\n",
    "empirical_p"
   ]
  },
  {
   "cell_type": "code",
   "execution_count": null,
   "id": "59bb8a6c",
   "metadata": {
    "deletable": false,
    "editable": false
   },
   "outputs": [],
   "source": [
    "grader.check(\"q2_10\")"
   ]
  },
  {
   "cell_type": "markdown",
   "id": "6b14c5f9",
   "metadata": {
    "deletable": false,
    "editable": false
   },
   "source": [
    "**Question 2.11.** Using a 5% P-value cutoff, draw a conclusion about the null and alternative hypotheses. Describe your findings using simple, non-technical language. What does your analysis tell you about the association between star baker awards and winning? What can you claim about causation from your statistical analysis?\n",
    "\n",
    "<!--\n",
    "BEGIN QUESTION\n",
    "name: q2_10\n",
    "-->"
   ]
  },
  {
   "cell_type": "markdown",
   "id": "6041eb44",
   "metadata": {},
   "source": [
    "_Type your answer here, replacing this text._"
   ]
  },
  {
   "cell_type": "markdown",
   "id": "8b53b2d2",
   "metadata": {
    "deletable": false,
    "editable": false
   },
   "source": [
    "## 3. Project 2 Partner Form\n",
    "\n",
    "Project 2 will be released Friday, 10/22! You have the option of working with a partner that is enrolled in your lab. Your GSI will be sending out a form to match you up with a partner for this project. You may also indicate if you're working alone or have already found a partner and do not need to be paired up. This form is **mandatory** - please fill it out before submitting your lab. Set `submitted` to `True` once you've submitted the form.\n",
    "\n",
    "Note: If you are completing this lab before the early submission deadline, the form may not have been sent out yet. Set `submitted` to `True` for now, and keep an eye out for an email from your GSI later this week.\n",
    "\n",
    "<!--\n",
    "BEGIN QUESTION\n",
    "name: q3\n",
    "-->"
   ]
  },
  {
   "cell_type": "code",
   "execution_count": 28,
   "id": "b1c4d5c4",
   "metadata": {
    "execution": {
     "iopub.execute_input": "2021-10-19T03:47:28.992380Z",
     "iopub.status.busy": "2021-10-19T03:47:28.991716Z",
     "iopub.status.idle": "2021-10-19T03:47:28.995397Z",
     "shell.execute_reply": "2021-10-19T03:47:28.994666Z"
    }
   },
   "outputs": [],
   "source": [
    "submitted = ..."
   ]
  },
  {
   "cell_type": "code",
   "execution_count": null,
   "id": "9715b9b6",
   "metadata": {
    "deletable": false,
    "editable": false
   },
   "outputs": [],
   "source": [
    "grader.check(\"q3\")"
   ]
  },
  {
   "cell_type": "markdown",
   "id": "ad21ce59",
   "metadata": {},
   "source": [
    "## 4. Submission\n",
    "\n",
    "Great job! You're finished with Lab 7! Be sure to...\n",
    "\n",
    "* **run all the tests** (or run the `grader.check_all` cell),\n",
    "* **Save and Checkpoint** from the File menu,\n",
    "* **run the last cell to generate the zip file and submit your work to Lab 07 Autograder on [Gradescope](https://www.gradescope.com/courses/288788)**,\n",
    "* and if you are in lab, **ask one of the staff members to check you off.**"
   ]
  },
  {
   "cell_type": "markdown",
   "id": "85450d14",
   "metadata": {
    "deletable": false,
    "editable": false
   },
   "source": [
    "---\n",
    "\n",
    "To double-check your work, the cell below will rerun all of the autograder tests."
   ]
  },
  {
   "cell_type": "code",
   "execution_count": null,
   "id": "6eecfd3c",
   "metadata": {
    "deletable": false,
    "editable": false
   },
   "outputs": [],
   "source": [
    "grader.check_all()"
   ]
  },
  {
   "cell_type": "markdown",
   "id": "06e92a96",
   "metadata": {
    "deletable": false,
    "editable": false
   },
   "source": [
    "## Submission\n",
    "\n",
    "Make sure you have run all cells in your notebook in order before running the cell below, so that all images/graphs appear in the output. The cell below will generate a zip file for you to submit. **Please save before exporting!**"
   ]
  },
  {
   "cell_type": "code",
   "execution_count": null,
   "id": "acbd7a38",
   "metadata": {
    "deletable": false,
    "editable": false
   },
   "outputs": [],
   "source": [
    "# Save your notebook first, then run this cell to export your submission.\n",
    "grader.export(pdf=False, force_save=True)"
   ]
  },
  {
   "cell_type": "markdown",
   "id": "e9a520e7",
   "metadata": {},
   "source": [
    " "
   ]
  }
 ],
 "metadata": {
  "kernelspec": {
   "display_name": "Python 3 (ipykernel)",
   "language": "python",
   "name": "python3"
  },
  "language_info": {
   "codemirror_mode": {
    "name": "ipython",
    "version": 3
   },
   "file_extension": ".py",
   "mimetype": "text/x-python",
   "name": "python",
   "nbconvert_exporter": "python",
   "pygments_lexer": "ipython3",
   "version": "3.9.7"
  }
 },
 "nbformat": 4,
 "nbformat_minor": 5
}
